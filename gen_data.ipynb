{
 "cells": [
  {
   "cell_type": "code",
   "execution_count": null,
   "metadata": {},
   "outputs": [],
   "source": [
    "import numpy as np\n",
    "\n",
    "def gen_random_series():\n",
    "    d = np.linspace(0, 3.14*2, 100)\n",
    "    coeffs = [\n",
    "        (\n",
    "            np.random.uniform(1,5),\n",
    "            np.random.uniform(0,1),\n",
    "            np.random.uniform(0,3.14*2),\n",
    "        )\n",
    "        for _ in range(3)\n",
    "    ]\n",
    "    d = sum(np.sin(d*x+z)*y for x,y,z in coeffs)\n",
    "    d += np.random.normal(0, 0.3, d.shape)\n",
    "    return d\n",
    "\n",
    "temperature = gen_random_series() + 70\n",
    "pressure = gen_random_series() * 0.1 + 1.3\n",
    "\n",
    "from matplotlib import pyplot as plt\n",
    "plt.plot(temperature)\n",
    "plt.plot(pressure)"
   ]
  },
  {
   "cell_type": "code",
   "execution_count": null,
   "metadata": {},
   "outputs": [],
   "source": [
    "import pandas as pd\n",
    "from datetime import datetime, timedelta\n",
    "start = datetime(2022, 12, 10, 10, 3, 32)\n",
    "stop = start + timedelta(hours=5, minutes=45)\n",
    "timestamps = np.linspace(start.timestamp(), stop.timestamp(), len(temperature)) * 1000\n",
    "df_t = pd.DataFrame({\"timestamp\": timestamps, \"value\": temperature, \"type\": 'temperature'})\n",
    "df_p = pd.DataFrame({\"timestamp\": timestamps, \"value\": pressure, \"type\": 'pressure'})\n",
    "df = pd.concat([df_t, df_p]).sort_values(\"timestamp\")\n",
    "\n",
    "with open(\"src/store/data.ts\", \"w\") as f:\n",
    "    f.write(\n",
    "        \"export const data = \" + str(df.to_dict(orient=\"rows\"))\n",
    "    )\n",
    "\n"
   ]
  }
 ],
 "metadata": {
  "kernelspec": {
   "display_name": "Python 3.9.6 64-bit",
   "language": "python",
   "name": "python3"
  },
  "language_info": {
   "codemirror_mode": {
    "name": "ipython",
    "version": 3
   },
   "file_extension": ".py",
   "mimetype": "text/x-python",
   "name": "python",
   "nbconvert_exporter": "python",
   "pygments_lexer": "ipython3",
   "version": "3.9.6"
  },
  "orig_nbformat": 4,
  "vscode": {
   "interpreter": {
    "hash": "11938c6bc6919ae2720b4d5011047913343b08a43b18698fd82dedb0d4417594"
   }
  }
 },
 "nbformat": 4,
 "nbformat_minor": 2
}
